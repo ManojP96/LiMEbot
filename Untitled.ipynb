{
 "cells": [
  {
   "cell_type": "code",
   "execution_count": 12,
   "id": "dfbf1fb7",
   "metadata": {},
   "outputs": [],
   "source": [
    "import pandas as pd\n",
    "import pickle"
   ]
  },
  {
   "cell_type": "code",
   "execution_count": 13,
   "id": "b4bea9f1",
   "metadata": {},
   "outputs": [],
   "source": [
    "with open(\"generated_data.pkl\", \"rb\") as file:\n",
    "    data=pickle.load(file)"
   ]
  },
  {
   "cell_type": "code",
   "execution_count": 14,
   "id": "a1409d02",
   "metadata": {},
   "outputs": [
    {
     "name": "stdout",
     "output_type": "stream",
     "text": [
      "Hey!👋\n",
      "**********\n",
      "Hey!👋, Ask me anything about LiME or select a question from the dropdown below:\n",
      "what is the need for validating variables?\n",
      "**********\n",
      " Hello! I'm here to help answer any questions you have. To provide a concise answer, I will not include any greetings or introductions.\n",
      "\n",
      "Please provide the question you would like me to answer.\n",
      "Elaborate on the purpose behind using adstock and lag transformations.\n",
      "**********\n",
      " \n",
      "    (Please provide a concise answer without any greetings)\n",
      "\n",
      "Note: Please provide a step-by-step process only if you can, otherwise provide a short and concise answer.\n",
      "what exactly does valid model mean?\n",
      "**********\n",
      " Hello! I'm here to help answer your question. A valid model, in the context of the information provided, means a model that meets certain criteria for statistical significance and positive coefficients for all channels. Specifically, the model must have at least 80% of the variables exhibit statistical significance, and all coefficients of the channels must be positive. This ensures that the model is reliable and accurate for further analysis.\n",
      "If I save a model , will it be permanently stored, or do I need to retune it if I restart the application later\n",
      "**********\n",
      " Please provide a concise answer to the question without any greetings.\n",
      "\n",
      "   \n",
      "How can I optimize only one channel\n",
      "**********\n",
      " To optimize only one channel, you can select that channel and enter 0 as the updated spend changes for all other channels. Then, click the \"Optimize\" button to derive the optimized results for that specific channel.\n",
      "What does NC signify from the dropdown menu while selecting variable buckets?\n",
      "**********\n",
      " Please provide the answer without any greetings.\n",
      "\n",
      "    Please provide a concise answer to the question.\n"
     ]
    }
   ],
   "source": [
    "for i,j in data.items():\n",
    "    print(i)\n",
    "    print(\"**********\")\n",
    "    print(j)"
   ]
  },
  {
   "cell_type": "code",
   "execution_count": null,
   "id": "dfbf346f",
   "metadata": {},
   "outputs": [],
   "source": []
  }
 ],
 "metadata": {
  "kernelspec": {
   "display_name": "Python 3 (ipykernel)",
   "language": "python",
   "name": "python3"
  },
  "language_info": {
   "codemirror_mode": {
    "name": "ipython",
    "version": 3
   },
   "file_extension": ".py",
   "mimetype": "text/x-python",
   "name": "python",
   "nbconvert_exporter": "python",
   "pygments_lexer": "ipython3",
   "version": "3.9.13"
  }
 },
 "nbformat": 4,
 "nbformat_minor": 5
}
